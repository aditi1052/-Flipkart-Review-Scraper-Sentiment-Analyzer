{
 "cells": [
  {
   "cell_type": "code",
   "execution_count": 1,
   "id": "6bf2d800-6547-4c2c-8def-69dff85e7002",
   "metadata": {},
   "outputs": [],
   "source": [
    "import pandas as pd  # Pandas is used for data manipulation and analysis, especially handling structured data in DataFrames.\n",
    "import requests  # Requests is used to send HTTP requests to fetch web pages or API data.\n",
    "from bs4 import BeautifulSoup  # BeautifulSoup is used for web scraping, allowing parsing and extraction of HTML/XML content.\n",
    "import time  # Time module is used for handling time-related tasks, such as adding delays in web scraping."
   ]
  },
  {
   "cell_type": "code",
   "execution_count": 2,
   "id": "e934f43f-fe6b-47cf-8bf8-088aae0220d7",
   "metadata": {},
   "outputs": [
    {
     "data": {
      "text/plain": [
       "<Response [200]>"
      ]
     },
     "execution_count": 2,
     "metadata": {},
     "output_type": "execute_result"
    }
   ],
   "source": [
    "url = \"https://www.flipkart.com/\"  # URL of the website to be accessed.\n",
    "r = requests.get(url)  # Sends an HTTP GET request to the specified URL and retrieves the webpage content.\n",
    "r  # Displays the response object, which contains the status code and response data."
   ]
  },
  {
   "cell_type": "code",
   "execution_count": 3,
   "id": "67dd6d35-f826-46f1-836d-1187249d4d2c",
   "metadata": {},
   "outputs": [],
   "source": [
    "customer_name = []  # Stores the names of customers who have given reviews.\n",
    "product_comments = []  # Stores the text of customer reviews/comments about the product.\n",
    "comment_date = []  # Stores the date on which each review/comment was posted.\n",
    "product_reviews = []  # Stores the ratings or reviews given to the product (e.g., star ratings)."
   ]
  },
  {
   "cell_type": "markdown",
   "id": "688f9a5c-0b8d-4f7f-b171-56ed8454702e",
   "metadata": {},
   "source": [
    "# Changes for link"
   ]
  },
  {
   "cell_type": "code",
   "execution_count": 5,
   "id": "66c150d7-50e1-4ea8-97bf-d8a689a75a06",
   "metadata": {},
   "outputs": [],
   "source": [
    "# Cleans the given Flipkart URL by removing any extra parameters after '=FLIPKART'.\n",
    "def clean_url(url):\n",
    "    return url.split(\"=FLIPKART\")[0] + \"=FLIPKART\"# Splits the URL at '=FLIPKART' and keeps only the essential part."
   ]
  },
  {
   "cell_type": "code",
   "execution_count": 6,
   "id": "0aeb12ab-805f-4a6a-9bc6-6c6cc50bfa77",
   "metadata": {},
   "outputs": [
    {
     "name": "stdin",
     "output_type": "stream",
     "text": [
      "Enter the link https://www.flipkart.com/apple-iphone-16-pro-black-titanium-256-gb/p/itm4652c565d11da?pid=MOBH4DQFEJYHHM7X&lid=LSTMOBH4DQFEJYHHM7X0NSARQ&marketplace=FLIPKART&store=tyy%2F4io&srno=b_1_7&otracker=CLP_BannerX3&fm=organic&iid=bc034d90-0e25-4e7d-bc48-68cff1a1d8c9.MOBH4DQFEJYHHM7X.SEARCH&ppt=clp&ppn=mobile-phones-store&ssid=bbujd9fosg0000001744191577016\n",
      "Enter the number of pages you want to print:  10\n"
     ]
    }
   ],
   "source": [
    "Product_link = input(\"Enter the link\") # Takes the product page link as user input.\n",
    "num = int(input(\"Enter the number of pages you want to print: \")) # Takes the number of review pages to scrape.\n",
    "second_link = Product_link.replace(\"/p/\", \"/product-reviews/\")# Replaces \"/p/\" in the product link with \"/product-reviews/\" to navigate to the review section of the product.\n",
    "second_link = clean_url(second_link)# Cleans the modified URL using the 'clean_url' function to ensure it has the correct format."
   ]
  },
  {
   "cell_type": "code",
   "execution_count": 7,
   "id": "5a34b1d3-149c-4788-b0f8-32fb37c65984",
   "metadata": {},
   "outputs": [
    {
     "name": "stdout",
     "output_type": "stream",
     "text": [
      "Data collection complete.\n"
     ]
    }
   ],
   "source": [
    "headers = {\"User-Agent\": \"Mozilla/5.0\"}  # Prevent request blocking\n",
    "\n",
    "#************ Scrapes customer reviews, comments, names, and dates from the Flipkart product review page.***********\n",
    "def scraping_data(y):\n",
    "    url = f\"{second_link}&page={y}\"  # Constructs the URL for the specific review page.\n",
    "    \n",
    "    r = requests.get(url, headers=headers)  # Sends an HTTP GET request with headers to avoid bot detection.\n",
    "    soup = BeautifulSoup(r.text, \"lxml\")  # Parses the webpage content using BeautifulSoup and the 'lxml' parser.\n",
    "\n",
    "    # Find all divs containing review data\n",
    "    boxes = soup.find_all(\"div\", class_=\"DOjaWF gdgoEp col-9-12\")\n",
    "    \n",
    "    for box in boxes:\n",
    "        # Extract customer names\n",
    "        names = box.find_all(\"p\", class_=\"_2NsDsF AwS1CA\")\n",
    "        customer_name.extend([i.text.strip() for i in names])  # Add extracted names to 'customer_name' list\n",
    "\n",
    "        # Extract product comments\n",
    "        comments = box.find_all(\"p\", class_=\"z9E0IG\")\n",
    "        product_comments.extend([i.text.strip() for i in comments])  # Add extracted comments to 'product_comments' list\n",
    "\n",
    "        # Extract comment dates\n",
    "        date = [i.text.strip() for i in box.find_all(\"p\", class_=\"_2NsDsF\")]\n",
    "        filtered_dates = date[1::2]  # Select every second element (to avoid name duplication)\n",
    "        if filtered_dates:  # Ensure there are valid dates before adding\n",
    "            comment_date.extend(filtered_dates)\n",
    "\n",
    "        # Extract product reviews\n",
    "        reviews = []\n",
    "\n",
    "        # Extract review texts\n",
    "        review_elements = box.find_all(\"div\", class_=\"\")\n",
    "        review_texts = [i.get_text(strip=True).replace(\"READ MORE\", \"\").strip() for i in review_elements]\n",
    "        filtered_reviews = review_texts[1:-1]  # Remove the first and last elements (which might be unwanted)\n",
    "\n",
    "        for index, review_text in enumerate(filtered_reviews, start=1):\n",
    "            if review_text and index % 2 == 0:  # Keep only even element\n",
    "                reviews.append(review_text)\n",
    "\n",
    "        if reviews:  # Ensure there are valid reviews before adding\n",
    "            product_reviews.extend(reviews)\n",
    "\n",
    "    print(f\"Processed page {y}\")  # Indicate which page has been processed\n",
    "\n",
    "    time.sleep(2)  # Pause for 2 seconds to avoid triggering anti-scraping measures\n",
    "    \n",
    "# Convert product_reviews to a list to ensure it's properly formatted\n",
    "product_reviews = list(product_reviews)\n",
    "\n",
    "print(\"Data collection complete.\")  # Indicate that data scraping is finished"
   ]
  },
  {
   "cell_type": "code",
   "execution_count": 8,
   "id": "9d2b715b-44f7-4937-bb45-b7d4d7a8ac02",
   "metadata": {},
   "outputs": [
    {
     "name": "stdout",
     "output_type": "stream",
     "text": [
      "Processed page 1\n",
      "Processed page 2\n",
      "Processed page 3\n",
      "Processed page 4\n",
      "Processed page 5\n",
      "Processed page 6\n",
      "Processed page 7\n",
      "Processed page 8\n",
      "Processed page 9\n",
      "Processed page 10\n",
      "Data collection complete.\n"
     ]
    }
   ],
   "source": [
    "for y in range(1,num+1):# Loop through the specified number of pages (from 1 to 'num')\n",
    "    scraping_data(y) # Call the scraping function for each page\n",
    "\n",
    "print(\"Data collection complete.\")# Print a message once all pages have been processed"
   ]
  },
  {
   "cell_type": "code",
   "execution_count": 9,
   "id": "76fb1bdb-da6c-4845-a437-4ae15b702df7",
   "metadata": {},
   "outputs": [
    {
     "name": "stdout",
     "output_type": "stream",
     "text": [
      "75\n",
      "75\n",
      "75\n",
      "75\n"
     ]
    }
   ],
   "source": [
    "print(len(customer_name))  # Prints the total number of customer names collected.\n",
    "print(len(product_comments))  # Prints the total number of product comments collected.\n",
    "print(len(comment_date))  # Prints the total number of comment dates collected.\n",
    "print(len(product_reviews))  # Prints the total number of product reviews collected."
   ]
  },
  {
   "cell_type": "code",
   "execution_count": 10,
   "id": "d462ed18-657c-4a09-b0cb-aa839d5fabb1",
   "metadata": {},
   "outputs": [
    {
     "data": {
      "text/html": [
       "<div>\n",
       "<style scoped>\n",
       "    .dataframe tbody tr th:only-of-type {\n",
       "        vertical-align: middle;\n",
       "    }\n",
       "\n",
       "    .dataframe tbody tr th {\n",
       "        vertical-align: top;\n",
       "    }\n",
       "\n",
       "    .dataframe thead th {\n",
       "        text-align: right;\n",
       "    }\n",
       "</style>\n",
       "<table border=\"1\" class=\"dataframe\">\n",
       "  <thead>\n",
       "    <tr style=\"text-align: right;\">\n",
       "      <th></th>\n",
       "      <th>Customer_Name</th>\n",
       "      <th>Comments</th>\n",
       "      <th>Comment_Date</th>\n",
       "      <th>Reviews</th>\n",
       "    </tr>\n",
       "  </thead>\n",
       "  <tbody>\n",
       "    <tr>\n",
       "      <th>0</th>\n",
       "      <td>Dhruba jyoti Barman</td>\n",
       "      <td>Classy product</td>\n",
       "      <td>6 months ago</td>\n",
       "      <td>Awesome and superb!Upgraded from iPhone 12 to ...</td>\n",
       "    </tr>\n",
       "    <tr>\n",
       "      <th>1</th>\n",
       "      <td>Flipkart Customer</td>\n",
       "      <td>Great product</td>\n",
       "      <td>3 months ago</td>\n",
       "      <td>Loved it best in the market . You should go fo...</td>\n",
       "    </tr>\n",
       "    <tr>\n",
       "      <th>2</th>\n",
       "      <td>Aditya  Powar</td>\n",
       "      <td>Just wow!</td>\n",
       "      <td>6 months ago</td>\n",
       "      <td>Awesome iPhone. Good upgrade from iPhone 13. L...</td>\n",
       "    </tr>\n",
       "    <tr>\n",
       "      <th>3</th>\n",
       "      <td>Diksha Gupta</td>\n",
       "      <td>Must buy!</td>\n",
       "      <td>3 months ago</td>\n",
       "      <td>Perfect genuine product it was my first time o...</td>\n",
       "    </tr>\n",
       "    <tr>\n",
       "      <th>4</th>\n",
       "      <td>Sachin Gupta</td>\n",
       "      <td>Classy product</td>\n",
       "      <td>5 months ago</td>\n",
       "      <td>Best product i will upgrade from 15 to 16 pro ...</td>\n",
       "    </tr>\n",
       "  </tbody>\n",
       "</table>\n",
       "</div>"
      ],
      "text/plain": [
       "         Customer_Name        Comments  Comment_Date  \\\n",
       "0  Dhruba jyoti Barman  Classy product  6 months ago   \n",
       "1    Flipkart Customer   Great product  3 months ago   \n",
       "2        Aditya  Powar       Just wow!  6 months ago   \n",
       "3         Diksha Gupta       Must buy!  3 months ago   \n",
       "4         Sachin Gupta  Classy product  5 months ago   \n",
       "\n",
       "                                             Reviews  \n",
       "0  Awesome and superb!Upgraded from iPhone 12 to ...  \n",
       "1  Loved it best in the market . You should go fo...  \n",
       "2  Awesome iPhone. Good upgrade from iPhone 13. L...  \n",
       "3  Perfect genuine product it was my first time o...  \n",
       "4  Best product i will upgrade from 15 to 16 pro ...  "
      ]
     },
     "execution_count": 10,
     "metadata": {},
     "output_type": "execute_result"
    }
   ],
   "source": [
    "# Coverting the above data in Dataframe\n",
    "df = pd.DataFrame({'Customer_Name':customer_name,\n",
    "                   'Comments':product_comments,\n",
    "                   'Comment_Date':comment_date,\n",
    "                   'Reviews':product_reviews})\n",
    "df.head() "
   ]
  },
  {
   "cell_type": "code",
   "execution_count": 11,
   "id": "62a69271-2815-47c2-9f24-b59d9a89c6aa",
   "metadata": {},
   "outputs": [
    {
     "data": {
      "text/plain": [
       "(75, 4)"
      ]
     },
     "execution_count": 11,
     "metadata": {},
     "output_type": "execute_result"
    }
   ],
   "source": [
    "df.shape"
   ]
  },
  {
   "cell_type": "code",
   "execution_count": 12,
   "id": "d4e53317-3467-43f3-bbe4-1854e53bc9e9",
   "metadata": {},
   "outputs": [],
   "source": [
    "# df.to_csv('C:/Users/harsh/OneDrive/Desktop/web scrapping/flipkart_450_pro.csv',index=False)"
   ]
  },
  {
   "cell_type": "markdown",
   "id": "f0e3c27c-640e-4095-92b4-afbf90fb8e06",
   "metadata": {},
   "source": [
    "# NLP model based on above data"
   ]
  },
  {
   "cell_type": "code",
   "execution_count": 14,
   "id": "6dc9f993-e47d-4067-afd5-1f632fc6d220",
   "metadata": {},
   "outputs": [],
   "source": [
    "import pandas as pd\n",
    "import numpy as np\n",
    "import matplotlib.pyplot as plt\n",
    "import warnings\n",
    "warnings.filterwarnings(\"ignore\")"
   ]
  },
  {
   "cell_type": "code",
   "execution_count": 15,
   "id": "4153c8f9-77a5-4fee-9cf3-ce58b8d8366e",
   "metadata": {},
   "outputs": [],
   "source": [
    "df.rename(columns={'Reviews': 'text'}, inplace=True)"
   ]
  },
  {
   "cell_type": "code",
   "execution_count": 16,
   "id": "50457f19-aa41-4b25-addb-b2839f2c593d",
   "metadata": {},
   "outputs": [
    {
     "data": {
      "text/html": [
       "<div>\n",
       "<style scoped>\n",
       "    .dataframe tbody tr th:only-of-type {\n",
       "        vertical-align: middle;\n",
       "    }\n",
       "\n",
       "    .dataframe tbody tr th {\n",
       "        vertical-align: top;\n",
       "    }\n",
       "\n",
       "    .dataframe thead th {\n",
       "        text-align: right;\n",
       "    }\n",
       "</style>\n",
       "<table border=\"1\" class=\"dataframe\">\n",
       "  <thead>\n",
       "    <tr style=\"text-align: right;\">\n",
       "      <th></th>\n",
       "      <th>text</th>\n",
       "    </tr>\n",
       "  </thead>\n",
       "  <tbody>\n",
       "    <tr>\n",
       "      <th>0</th>\n",
       "      <td>Awesome and superb!Upgraded from iPhone 12 to ...</td>\n",
       "    </tr>\n",
       "    <tr>\n",
       "      <th>1</th>\n",
       "      <td>Loved it best in the market . You should go fo...</td>\n",
       "    </tr>\n",
       "    <tr>\n",
       "      <th>2</th>\n",
       "      <td>Awesome iPhone. Good upgrade from iPhone 13. L...</td>\n",
       "    </tr>\n",
       "    <tr>\n",
       "      <th>3</th>\n",
       "      <td>Perfect genuine product it was my first time o...</td>\n",
       "    </tr>\n",
       "    <tr>\n",
       "      <th>4</th>\n",
       "      <td>Best product i will upgrade from 15 to 16 pro ...</td>\n",
       "    </tr>\n",
       "  </tbody>\n",
       "</table>\n",
       "</div>"
      ],
      "text/plain": [
       "                                                text\n",
       "0  Awesome and superb!Upgraded from iPhone 12 to ...\n",
       "1  Loved it best in the market . You should go fo...\n",
       "2  Awesome iPhone. Good upgrade from iPhone 13. L...\n",
       "3  Perfect genuine product it was my first time o...\n",
       "4  Best product i will upgrade from 15 to 16 pro ..."
      ]
     },
     "execution_count": 16,
     "metadata": {},
     "output_type": "execute_result"
    }
   ],
   "source": [
    "data = pd.DataFrame(df['text'])\n",
    "data.head()"
   ]
  },
  {
   "cell_type": "markdown",
   "id": "7abeca77-ef13-4fce-b3dc-c545eea2087b",
   "metadata": {},
   "source": [
    "# Cleaning the data"
   ]
  },
  {
   "cell_type": "code",
   "execution_count": 18,
   "id": "b0f5f0e2-db3c-4652-9db9-ebc7ccb233e6",
   "metadata": {},
   "outputs": [
    {
     "data": {
      "text/plain": [
       "'Awesome and superb!Upgraded from iPhone 12 to 16pro after 4 years. Display is awesome and bigger , the bezel is much slimmer , dedicated camera control feature  with swipe feature  and changes of exposure is superb and quick. Lighter weight even. Overall an excellent one . Definitely can  go for it 🫶👍🤍'"
      ]
     },
     "execution_count": 18,
     "metadata": {},
     "output_type": "execute_result"
    }
   ],
   "source": [
    "data.iloc[0,0]"
   ]
  },
  {
   "cell_type": "markdown",
   "id": "e2c90269-0cf0-4186-bde4-bdbd6dd951fa",
   "metadata": {},
   "source": [
    "### Step 1 converitng the data to lower case"
   ]
  },
  {
   "cell_type": "code",
   "execution_count": 20,
   "id": "7461363b-b488-479a-92b0-6727de21febf",
   "metadata": {},
   "outputs": [],
   "source": [
    "data.text = data.text.str.lower()"
   ]
  },
  {
   "cell_type": "code",
   "execution_count": 21,
   "id": "488c6f31-cbaf-48b3-9536-1769aee25859",
   "metadata": {},
   "outputs": [
    {
     "data": {
      "text/plain": [
       "'awesome and superb!upgraded from iphone 12 to 16pro after 4 years. display is awesome and bigger , the bezel is much slimmer , dedicated camera control feature  with swipe feature  and changes of exposure is superb and quick. lighter weight even. overall an excellent one . definitely can  go for it 🫶👍🤍'"
      ]
     },
     "execution_count": 21,
     "metadata": {},
     "output_type": "execute_result"
    }
   ],
   "source": [
    "data.iloc[0,0]"
   ]
  },
  {
   "cell_type": "markdown",
   "id": "632fab0b-ac17-47fa-8a65-6f3c8aad0cb4",
   "metadata": {},
   "source": [
    "### Step 2 removing the stop words"
   ]
  },
  {
   "cell_type": "code",
   "execution_count": 23,
   "id": "244fc8b1-da26-4d2c-95e2-d7f227c632a2",
   "metadata": {},
   "outputs": [
    {
     "name": "stderr",
     "output_type": "stream",
     "text": [
      "[nltk_data] Downloading package stopwords to\n",
      "[nltk_data]     C:\\Users\\harsh\\AppData\\Roaming\\nltk_data...\n",
      "[nltk_data]   Package stopwords is already up-to-date!\n"
     ]
    },
    {
     "data": {
      "text/plain": [
       "True"
      ]
     },
     "execution_count": 23,
     "metadata": {},
     "output_type": "execute_result"
    }
   ],
   "source": [
    "import nltk\n",
    "nltk.download('stopwords')"
   ]
  },
  {
   "cell_type": "code",
   "execution_count": 24,
   "id": "149f804a-3bc2-47f6-a1b2-b9c78c8a86f8",
   "metadata": {},
   "outputs": [],
   "source": [
    "from nltk.corpus import stopwords\n",
    "stop = stopwords.words('english')"
   ]
  },
  {
   "cell_type": "code",
   "execution_count": 25,
   "id": "441c07f6-2037-4154-80c4-a45d87c0613b",
   "metadata": {},
   "outputs": [],
   "source": [
    "data['text'] = data['text'].apply(lambda x: ' '.join([abc\n",
    "                                                      for abc in x.split()\n",
    "                                                      if abc not in (stop)]))"
   ]
  },
  {
   "cell_type": "markdown",
   "id": "c2843188-abf0-4768-b75b-5141c4df2407",
   "metadata": {},
   "source": [
    "### Step 3 Removing URL"
   ]
  },
  {
   "cell_type": "code",
   "execution_count": 27,
   "id": "b2c46dbd-ee57-4245-9b51-5baa61362f14",
   "metadata": {},
   "outputs": [],
   "source": [
    "data['text'] = data['text'].replace(r'http\\S+|www\\S+','',regex=True)"
   ]
  },
  {
   "cell_type": "markdown",
   "id": "e49f8779-9495-455c-8250-462217968d5f",
   "metadata": {},
   "source": [
    "### Step 4 Removing all the puntuation"
   ]
  },
  {
   "cell_type": "code",
   "execution_count": 29,
   "id": "8af106fb-1c7f-4c34-86f8-4ff7147e4a8f",
   "metadata": {},
   "outputs": [
    {
     "data": {
      "text/plain": [
       "'!\"#$%&\\'()*+,-./:;<=>?@[\\\\]^_`{|}~'"
      ]
     },
     "execution_count": 29,
     "metadata": {},
     "output_type": "execute_result"
    }
   ],
   "source": [
    "import string\n",
    "string.punctuation"
   ]
  },
  {
   "cell_type": "code",
   "execution_count": 30,
   "id": "6ea59d39-24b4-430b-808e-4b23b3dddf29",
   "metadata": {},
   "outputs": [],
   "source": [
    "def remove_punctuation(b):\n",
    "    text = ''.join([c\n",
    "                    for c in b\n",
    "                    if c not in string.punctuation])\n",
    "    return text"
   ]
  },
  {
   "cell_type": "code",
   "execution_count": 31,
   "id": "ea510aa5-3450-4e15-bbde-391f0af49a0c",
   "metadata": {},
   "outputs": [],
   "source": [
    "data['text'] = data['text'].apply(lambda x: remove_punctuation(x))"
   ]
  },
  {
   "cell_type": "markdown",
   "id": "dc731068-adb0-47e3-82a1-d9a6337b8687",
   "metadata": {},
   "source": [
    "### Step 5 Remove Numbers"
   ]
  },
  {
   "cell_type": "code",
   "execution_count": 33,
   "id": "b678a82f-6006-4bf6-8561-92614082be2a",
   "metadata": {},
   "outputs": [],
   "source": [
    "data['text'] = data['text'].replace(r'\\d+','',regex=True)"
   ]
  },
  {
   "cell_type": "markdown",
   "id": "27fecd1c-de8b-407c-96c6-6c171caedb61",
   "metadata": {},
   "source": [
    "### Step 6 Removing the common words "
   ]
  },
  {
   "cell_type": "code",
   "execution_count": 35,
   "id": "eb4a885a-fdae-4797-800a-9c2b86b712e1",
   "metadata": {},
   "outputs": [
    {
     "name": "stderr",
     "output_type": "stream",
     "text": [
      "[nltk_data] Downloading package words to\n",
      "[nltk_data]     C:\\Users\\harsh\\AppData\\Roaming\\nltk_data...\n",
      "[nltk_data]   Package words is already up-to-date!\n"
     ]
    }
   ],
   "source": [
    "import re\n",
    "nltk.download('words')\n",
    "words = set(nltk.corpus.words.words())"
   ]
  },
  {
   "cell_type": "code",
   "execution_count": 36,
   "id": "b418194d-4958-4b45-8790-5b296f60b41e",
   "metadata": {},
   "outputs": [],
   "source": [
    "def clean_data(text):\n",
    "    text =  re.sub(r\"\\b[a-zA-Z]\\b\", \"\", text) ## 1 alphabet like a or s\n",
    "    text =  re.sub(r\"\\b[a-zA-Z][a-zA-Z]\\b\", \"\", text)## 2 alphabet like ab or ad & aA\n",
    "    text =  re.sub('product|Product|PRODUCT', '', text)\n",
    "    text =  \" \".join(w\n",
    "                     for w in nltk.wordpunct_tokenize(text)  ## this will give you tokens\n",
    "                      if w.lower() in words)  #\n",
    "    return text"
   ]
  },
  {
   "cell_type": "code",
   "execution_count": 37,
   "id": "a1c113b7-273a-4672-8895-84e024f2a5b1",
   "metadata": {},
   "outputs": [],
   "source": [
    "data = pd.DataFrame(data['text'].apply(lambda x:clean_data(x)))"
   ]
  },
  {
   "cell_type": "code",
   "execution_count": null,
   "id": "d03e5c3b-5b9e-436f-bedf-6a7afdfd4727",
   "metadata": {},
   "outputs": [],
   "source": []
  },
  {
   "cell_type": "markdown",
   "id": "9a7c8bec-edb4-4d53-b501-67e19f40727b",
   "metadata": {},
   "source": [
    "# Lammatization"
   ]
  },
  {
   "cell_type": "code",
   "execution_count": 39,
   "id": "1a51e5b4-0b61-466b-8746-5be8aa3fa694",
   "metadata": {},
   "outputs": [
    {
     "name": "stderr",
     "output_type": "stream",
     "text": [
      "[nltk_data] Downloading package wordnet to\n",
      "[nltk_data]     C:\\Users\\harsh\\AppData\\Roaming\\nltk_data...\n",
      "[nltk_data]   Package wordnet is already up-to-date!\n"
     ]
    }
   ],
   "source": [
    "from nltk.stem import WordNetLemmatizer\n",
    "import nltk\n",
    "nltk.download('wordnet')\n",
    "lemmatizer = WordNetLemmatizer()\n",
    "word_tokenizer = nltk.tokenize.WhitespaceTokenizer()"
   ]
  },
  {
   "cell_type": "code",
   "execution_count": 40,
   "id": "3b4636f1-8138-4dc5-892c-238897b17721",
   "metadata": {},
   "outputs": [],
   "source": [
    "def lemmatize_(text):\n",
    "    return [lemmatizer.lemmatize(w,\"v\")\n",
    "            for w in word_tokenizer.tokenize(text)]"
   ]
  },
  {
   "cell_type": "code",
   "execution_count": 41,
   "id": "7f63c208-9f16-4f9c-9607-73772450ba30",
   "metadata": {},
   "outputs": [],
   "source": [
    "data.text = data['text'].apply(lambda x :' '.join(lemmatize_(x)))"
   ]
  },
  {
   "cell_type": "code",
   "execution_count": 42,
   "id": "1cdb85a3-4805-4dd6-a1ec-4ff6be48be88",
   "metadata": {},
   "outputs": [],
   "source": [
    "data['text'] = data['text'].apply(lambda x: ' '.join([abc   # x = Text\n",
    "                                                      for abc in x.split() # word tokenizer # abc = Delhi\n",
    "                                                      if abc not in (stop)]))"
   ]
  },
  {
   "cell_type": "markdown",
   "id": "8cb4cc8b-7f20-4c86-b2c8-2140a2d1b51d",
   "metadata": {},
   "source": [
    "### Strip extra white spaces"
   ]
  },
  {
   "cell_type": "code",
   "execution_count": 44,
   "id": "7b17b9e3-22c3-4cd8-94df-98a7f1631a15",
   "metadata": {},
   "outputs": [],
   "source": [
    "data['text'] = (data['text'].astype(\"str\").str.rstrip())"
   ]
  },
  {
   "cell_type": "markdown",
   "id": "884af8eb-b438-43fc-a79a-0f54b9c095be",
   "metadata": {},
   "source": [
    "### Removing the emojis"
   ]
  },
  {
   "cell_type": "code",
   "execution_count": 46,
   "id": "81b916c7-37d4-441b-847c-0329bd57fe07",
   "metadata": {},
   "outputs": [],
   "source": [
    "def remove_emojis(text):\n",
    "    emoji_pattern = re.compile(\"[\"\n",
    "                               u\"\\U0001F600-\\U0001F64F\"  # Emoticons\n",
    "                               u\"\\U0001F300-\\U0001F5FF\"  # Symbols & Pictographs\n",
    "                               u\"\\U0001F680-\\U0001F6FF\"  # Transport & Map Symbols\n",
    "                               u\"\\U0001F700-\\U0001F77F\"  # Alchemical Symbols\n",
    "                               u\"\\U0001F780-\\U0001F7FF\"  # Geometric Shapes Extended\n",
    "                               u\"\\U0001F800-\\U0001F8FF\"  # Supplemental Arrows-C\n",
    "                               u\"\\U0001F900-\\U0001F9FF\"  # Supplemental Symbols and Pictographs\n",
    "                               u\"\\U0001FA00-\\U0001FA6F\"  # Chess Symbols\n",
    "                               u\"\\U0001FA70-\\U0001FAFF\"  # Symbols and Pictographs Extended-A\n",
    "                               u\"\\U00002702-\\U000027B0\"  # Dingbats\n",
    "                               u\"\\U000024C2-\\U0001F251\"  # Enclosed Characters\n",
    "                               \"]+\", flags=re.UNICODE)\n",
    "    return emoji_pattern.sub(r'', text)"
   ]
  },
  {
   "cell_type": "code",
   "execution_count": 47,
   "id": "5cf83f07-f73a-4cd2-a906-193af3ceffb7",
   "metadata": {},
   "outputs": [],
   "source": [
    "df['text'] = df['text'].apply(remove_emojis)"
   ]
  },
  {
   "cell_type": "markdown",
   "id": "87563e1f-e08f-4e28-a19c-5439f934899f",
   "metadata": {},
   "source": [
    "### Removing the Duplicate Row"
   ]
  },
  {
   "cell_type": "code",
   "execution_count": 49,
   "id": "a37b4fc2-ef9e-433e-bde2-2f6d707c5915",
   "metadata": {},
   "outputs": [
    {
     "data": {
      "text/html": [
       "<div>\n",
       "<style scoped>\n",
       "    .dataframe tbody tr th:only-of-type {\n",
       "        vertical-align: middle;\n",
       "    }\n",
       "\n",
       "    .dataframe tbody tr th {\n",
       "        vertical-align: top;\n",
       "    }\n",
       "\n",
       "    .dataframe thead th {\n",
       "        text-align: right;\n",
       "    }\n",
       "</style>\n",
       "<table border=\"1\" class=\"dataframe\">\n",
       "  <thead>\n",
       "    <tr style=\"text-align: right;\">\n",
       "      <th></th>\n",
       "      <th>text</th>\n",
       "    </tr>\n",
       "  </thead>\n",
       "  <tbody>\n",
       "    <tr>\n",
       "      <th>0</th>\n",
       "      <td>awesome pro display awesome bigger bezel much ...</td>\n",
       "    </tr>\n",
       "    <tr>\n",
       "      <th>1</th>\n",
       "      <td>best market</td>\n",
       "    </tr>\n",
       "    <tr>\n",
       "      <th>2</th>\n",
       "      <td>awesome good upgrade love</td>\n",
       "    </tr>\n",
       "    <tr>\n",
       "      <th>3</th>\n",
       "      <td>perfect genuine first time expensive phone com...</td>\n",
       "    </tr>\n",
       "    <tr>\n",
       "      <th>4</th>\n",
       "      <td>best upgrade pro nice colour light weight</td>\n",
       "    </tr>\n",
       "  </tbody>\n",
       "</table>\n",
       "</div>"
      ],
      "text/plain": [
       "                                                text\n",
       "0  awesome pro display awesome bigger bezel much ...\n",
       "1                                        best market\n",
       "2                          awesome good upgrade love\n",
       "3  perfect genuine first time expensive phone com...\n",
       "4          best upgrade pro nice colour light weight"
      ]
     },
     "execution_count": 49,
     "metadata": {},
     "output_type": "execute_result"
    }
   ],
   "source": [
    "data = data.drop_duplicates('text')\n",
    "data.head()"
   ]
  },
  {
   "cell_type": "markdown",
   "id": "d0c3da07-6121-4634-a745-571394e3714f",
   "metadata": {},
   "source": [
    "### Data cleaning is over"
   ]
  },
  {
   "cell_type": "code",
   "execution_count": null,
   "id": "ebc37da9-97a9-4516-8aae-5322f716d878",
   "metadata": {},
   "outputs": [],
   "source": []
  },
  {
   "cell_type": "markdown",
   "id": "821c3f6d-4c3d-49e3-bf11-79b2934021fa",
   "metadata": {},
   "source": [
    "# Term Documnet Matrix"
   ]
  },
  {
   "cell_type": "code",
   "execution_count": 52,
   "id": "a41a3dc4-2814-4b51-b75a-6cef11861d60",
   "metadata": {},
   "outputs": [
    {
     "data": {
      "text/html": [
       "<div>\n",
       "<style scoped>\n",
       "    .dataframe tbody tr th:only-of-type {\n",
       "        vertical-align: middle;\n",
       "    }\n",
       "\n",
       "    .dataframe tbody tr th {\n",
       "        vertical-align: top;\n",
       "    }\n",
       "\n",
       "    .dataframe thead th {\n",
       "        text-align: right;\n",
       "    }\n",
       "</style>\n",
       "<table border=\"1\" class=\"dataframe\">\n",
       "  <thead>\n",
       "    <tr style=\"text-align: right;\">\n",
       "      <th></th>\n",
       "      <th>0</th>\n",
       "      <th>1</th>\n",
       "      <th>2</th>\n",
       "      <th>3</th>\n",
       "      <th>4</th>\n",
       "      <th>5</th>\n",
       "      <th>6</th>\n",
       "      <th>7</th>\n",
       "      <th>8</th>\n",
       "      <th>9</th>\n",
       "      <th>...</th>\n",
       "      <th>51</th>\n",
       "      <th>52</th>\n",
       "      <th>53</th>\n",
       "      <th>54</th>\n",
       "      <th>55</th>\n",
       "      <th>56</th>\n",
       "      <th>57</th>\n",
       "      <th>58</th>\n",
       "      <th>59</th>\n",
       "      <th>60</th>\n",
       "    </tr>\n",
       "  </thead>\n",
       "  <tbody>\n",
       "    <tr>\n",
       "      <th>affluent</th>\n",
       "      <td>0</td>\n",
       "      <td>0</td>\n",
       "      <td>0</td>\n",
       "      <td>0</td>\n",
       "      <td>0</td>\n",
       "      <td>0</td>\n",
       "      <td>0</td>\n",
       "      <td>0</td>\n",
       "      <td>0</td>\n",
       "      <td>0</td>\n",
       "      <td>...</td>\n",
       "      <td>0</td>\n",
       "      <td>0</td>\n",
       "      <td>0</td>\n",
       "      <td>0</td>\n",
       "      <td>0</td>\n",
       "      <td>0</td>\n",
       "      <td>0</td>\n",
       "      <td>0</td>\n",
       "      <td>0</td>\n",
       "      <td>0</td>\n",
       "    </tr>\n",
       "    <tr>\n",
       "      <th>amaze</th>\n",
       "      <td>0</td>\n",
       "      <td>0</td>\n",
       "      <td>0</td>\n",
       "      <td>0</td>\n",
       "      <td>0</td>\n",
       "      <td>0</td>\n",
       "      <td>0</td>\n",
       "      <td>1</td>\n",
       "      <td>0</td>\n",
       "      <td>0</td>\n",
       "      <td>...</td>\n",
       "      <td>0</td>\n",
       "      <td>0</td>\n",
       "      <td>0</td>\n",
       "      <td>0</td>\n",
       "      <td>0</td>\n",
       "      <td>1</td>\n",
       "      <td>0</td>\n",
       "      <td>0</td>\n",
       "      <td>0</td>\n",
       "      <td>0</td>\n",
       "    </tr>\n",
       "    <tr>\n",
       "      <th>apple</th>\n",
       "      <td>0</td>\n",
       "      <td>0</td>\n",
       "      <td>0</td>\n",
       "      <td>1</td>\n",
       "      <td>0</td>\n",
       "      <td>0</td>\n",
       "      <td>0</td>\n",
       "      <td>0</td>\n",
       "      <td>0</td>\n",
       "      <td>0</td>\n",
       "      <td>...</td>\n",
       "      <td>0</td>\n",
       "      <td>0</td>\n",
       "      <td>0</td>\n",
       "      <td>0</td>\n",
       "      <td>0</td>\n",
       "      <td>0</td>\n",
       "      <td>0</td>\n",
       "      <td>0</td>\n",
       "      <td>0</td>\n",
       "      <td>0</td>\n",
       "    </tr>\n",
       "    <tr>\n",
       "      <th>avoid</th>\n",
       "      <td>0</td>\n",
       "      <td>0</td>\n",
       "      <td>0</td>\n",
       "      <td>0</td>\n",
       "      <td>0</td>\n",
       "      <td>0</td>\n",
       "      <td>0</td>\n",
       "      <td>0</td>\n",
       "      <td>0</td>\n",
       "      <td>0</td>\n",
       "      <td>...</td>\n",
       "      <td>0</td>\n",
       "      <td>0</td>\n",
       "      <td>0</td>\n",
       "      <td>0</td>\n",
       "      <td>0</td>\n",
       "      <td>0</td>\n",
       "      <td>0</td>\n",
       "      <td>0</td>\n",
       "      <td>0</td>\n",
       "      <td>0</td>\n",
       "    </tr>\n",
       "    <tr>\n",
       "      <th>awesome</th>\n",
       "      <td>2</td>\n",
       "      <td>0</td>\n",
       "      <td>1</td>\n",
       "      <td>0</td>\n",
       "      <td>0</td>\n",
       "      <td>0</td>\n",
       "      <td>1</td>\n",
       "      <td>0</td>\n",
       "      <td>0</td>\n",
       "      <td>0</td>\n",
       "      <td>...</td>\n",
       "      <td>0</td>\n",
       "      <td>0</td>\n",
       "      <td>0</td>\n",
       "      <td>0</td>\n",
       "      <td>0</td>\n",
       "      <td>0</td>\n",
       "      <td>0</td>\n",
       "      <td>0</td>\n",
       "      <td>0</td>\n",
       "      <td>0</td>\n",
       "    </tr>\n",
       "  </tbody>\n",
       "</table>\n",
       "<p>5 rows × 61 columns</p>\n",
       "</div>"
      ],
      "text/plain": [
       "          0   1   2   3   4   5   6   7   8   9   ...  51  52  53  54  55  56  \\\n",
       "affluent   0   0   0   0   0   0   0   0   0   0  ...   0   0   0   0   0   0   \n",
       "amaze      0   0   0   0   0   0   0   1   0   0  ...   0   0   0   0   0   1   \n",
       "apple      0   0   0   1   0   0   0   0   0   0  ...   0   0   0   0   0   0   \n",
       "avoid      0   0   0   0   0   0   0   0   0   0  ...   0   0   0   0   0   0   \n",
       "awesome    2   0   1   0   0   0   1   0   0   0  ...   0   0   0   0   0   0   \n",
       "\n",
       "          57  58  59  60  \n",
       "affluent   0   0   0   0  \n",
       "amaze      0   0   0   0  \n",
       "apple      0   0   0   0  \n",
       "avoid      0   0   0   0  \n",
       "awesome    0   0   0   0  \n",
       "\n",
       "[5 rows x 61 columns]"
      ]
     },
     "execution_count": 52,
     "metadata": {},
     "output_type": "execute_result"
    }
   ],
   "source": [
    "from sklearn.feature_extraction.text import CountVectorizer\n",
    "cv =  CountVectorizer(stop_words='english')\n",
    "data_cv = cv.fit_transform(data.text)\n",
    "data_dtm = pd.DataFrame(data_cv.toarray(), columns=cv.get_feature_names_out()) # TERM = KEY WORDS\n",
    "tdm = data_dtm.transpose()\n",
    "tdm.head()"
   ]
  },
  {
   "cell_type": "code",
   "execution_count": 53,
   "id": "6180591b-f43c-4228-b8a3-c5257b3d2b9f",
   "metadata": {},
   "outputs": [
    {
     "data": {
      "text/html": [
       "<div>\n",
       "<style scoped>\n",
       "    .dataframe tbody tr th:only-of-type {\n",
       "        vertical-align: middle;\n",
       "    }\n",
       "\n",
       "    .dataframe tbody tr th {\n",
       "        vertical-align: top;\n",
       "    }\n",
       "\n",
       "    .dataframe thead th {\n",
       "        text-align: right;\n",
       "    }\n",
       "</style>\n",
       "<table border=\"1\" class=\"dataframe\">\n",
       "  <thead>\n",
       "    <tr style=\"text-align: right;\">\n",
       "      <th></th>\n",
       "      <th>index</th>\n",
       "      <th>0</th>\n",
       "      <th>1</th>\n",
       "      <th>2</th>\n",
       "      <th>3</th>\n",
       "      <th>4</th>\n",
       "      <th>5</th>\n",
       "      <th>6</th>\n",
       "      <th>7</th>\n",
       "      <th>8</th>\n",
       "      <th>...</th>\n",
       "      <th>52</th>\n",
       "      <th>53</th>\n",
       "      <th>54</th>\n",
       "      <th>55</th>\n",
       "      <th>56</th>\n",
       "      <th>57</th>\n",
       "      <th>58</th>\n",
       "      <th>59</th>\n",
       "      <th>60</th>\n",
       "      <th>freq</th>\n",
       "    </tr>\n",
       "  </thead>\n",
       "  <tbody>\n",
       "    <tr>\n",
       "      <th>0</th>\n",
       "      <td>affluent</td>\n",
       "      <td>0</td>\n",
       "      <td>0</td>\n",
       "      <td>0</td>\n",
       "      <td>0</td>\n",
       "      <td>0</td>\n",
       "      <td>0</td>\n",
       "      <td>0</td>\n",
       "      <td>0</td>\n",
       "      <td>0</td>\n",
       "      <td>...</td>\n",
       "      <td>0</td>\n",
       "      <td>0</td>\n",
       "      <td>0</td>\n",
       "      <td>0</td>\n",
       "      <td>0</td>\n",
       "      <td>0</td>\n",
       "      <td>0</td>\n",
       "      <td>0</td>\n",
       "      <td>0</td>\n",
       "      <td>1</td>\n",
       "    </tr>\n",
       "    <tr>\n",
       "      <th>1</th>\n",
       "      <td>amaze</td>\n",
       "      <td>0</td>\n",
       "      <td>0</td>\n",
       "      <td>0</td>\n",
       "      <td>0</td>\n",
       "      <td>0</td>\n",
       "      <td>0</td>\n",
       "      <td>0</td>\n",
       "      <td>1</td>\n",
       "      <td>0</td>\n",
       "      <td>...</td>\n",
       "      <td>0</td>\n",
       "      <td>0</td>\n",
       "      <td>0</td>\n",
       "      <td>0</td>\n",
       "      <td>1</td>\n",
       "      <td>0</td>\n",
       "      <td>0</td>\n",
       "      <td>0</td>\n",
       "      <td>0</td>\n",
       "      <td>3</td>\n",
       "    </tr>\n",
       "    <tr>\n",
       "      <th>2</th>\n",
       "      <td>apple</td>\n",
       "      <td>0</td>\n",
       "      <td>0</td>\n",
       "      <td>0</td>\n",
       "      <td>1</td>\n",
       "      <td>0</td>\n",
       "      <td>0</td>\n",
       "      <td>0</td>\n",
       "      <td>0</td>\n",
       "      <td>0</td>\n",
       "      <td>...</td>\n",
       "      <td>0</td>\n",
       "      <td>0</td>\n",
       "      <td>0</td>\n",
       "      <td>0</td>\n",
       "      <td>0</td>\n",
       "      <td>0</td>\n",
       "      <td>0</td>\n",
       "      <td>0</td>\n",
       "      <td>0</td>\n",
       "      <td>3</td>\n",
       "    </tr>\n",
       "    <tr>\n",
       "      <th>3</th>\n",
       "      <td>avoid</td>\n",
       "      <td>0</td>\n",
       "      <td>0</td>\n",
       "      <td>0</td>\n",
       "      <td>0</td>\n",
       "      <td>0</td>\n",
       "      <td>0</td>\n",
       "      <td>0</td>\n",
       "      <td>0</td>\n",
       "      <td>0</td>\n",
       "      <td>...</td>\n",
       "      <td>0</td>\n",
       "      <td>0</td>\n",
       "      <td>0</td>\n",
       "      <td>0</td>\n",
       "      <td>0</td>\n",
       "      <td>0</td>\n",
       "      <td>0</td>\n",
       "      <td>0</td>\n",
       "      <td>0</td>\n",
       "      <td>1</td>\n",
       "    </tr>\n",
       "    <tr>\n",
       "      <th>4</th>\n",
       "      <td>awesome</td>\n",
       "      <td>2</td>\n",
       "      <td>0</td>\n",
       "      <td>1</td>\n",
       "      <td>0</td>\n",
       "      <td>0</td>\n",
       "      <td>0</td>\n",
       "      <td>1</td>\n",
       "      <td>0</td>\n",
       "      <td>0</td>\n",
       "      <td>...</td>\n",
       "      <td>0</td>\n",
       "      <td>0</td>\n",
       "      <td>0</td>\n",
       "      <td>0</td>\n",
       "      <td>0</td>\n",
       "      <td>0</td>\n",
       "      <td>0</td>\n",
       "      <td>0</td>\n",
       "      <td>0</td>\n",
       "      <td>9</td>\n",
       "    </tr>\n",
       "  </tbody>\n",
       "</table>\n",
       "<p>5 rows × 63 columns</p>\n",
       "</div>"
      ],
      "text/plain": [
       "      index  0  1  2  3  4  5  6  7  8  ...  52  53  54  55  56  57  58  59  \\\n",
       "0  affluent  0  0  0  0  0  0  0  0  0  ...   0   0   0   0   0   0   0   0   \n",
       "1     amaze  0  0  0  0  0  0  0  1  0  ...   0   0   0   0   1   0   0   0   \n",
       "2     apple  0  0  0  1  0  0  0  0  0  ...   0   0   0   0   0   0   0   0   \n",
       "3     avoid  0  0  0  0  0  0  0  0  0  ...   0   0   0   0   0   0   0   0   \n",
       "4   awesome  2  0  1  0  0  0  1  0  0  ...   0   0   0   0   0   0   0   0   \n",
       "\n",
       "   60  freq  \n",
       "0   0     1  \n",
       "1   0     3  \n",
       "2   0     3  \n",
       "3   0     1  \n",
       "4   0     9  \n",
       "\n",
       "[5 rows x 63 columns]"
      ]
     },
     "execution_count": 53,
     "metadata": {},
     "output_type": "execute_result"
    }
   ],
   "source": [
    "tdm['freq'] = tdm.sum(axis=1)\n",
    "tdm.reset_index(inplace=True)\n",
    "tdm.head()"
   ]
  },
  {
   "cell_type": "code",
   "execution_count": 54,
   "id": "82852069-3a52-48cb-8150-5aa709a1bf77",
   "metadata": {},
   "outputs": [
    {
     "data": {
      "text/html": [
       "<div>\n",
       "<style scoped>\n",
       "    .dataframe tbody tr th:only-of-type {\n",
       "        vertical-align: middle;\n",
       "    }\n",
       "\n",
       "    .dataframe tbody tr th {\n",
       "        vertical-align: top;\n",
       "    }\n",
       "\n",
       "    .dataframe thead th {\n",
       "        text-align: right;\n",
       "    }\n",
       "</style>\n",
       "<table border=\"1\" class=\"dataframe\">\n",
       "  <thead>\n",
       "    <tr style=\"text-align: right;\">\n",
       "      <th></th>\n",
       "      <th>Word</th>\n",
       "      <th>freq</th>\n",
       "    </tr>\n",
       "  </thead>\n",
       "  <tbody>\n",
       "    <tr>\n",
       "      <th>98</th>\n",
       "      <td>phone</td>\n",
       "      <td>21</td>\n",
       "    </tr>\n",
       "    <tr>\n",
       "      <th>106</th>\n",
       "      <td>pro</td>\n",
       "      <td>21</td>\n",
       "    </tr>\n",
       "    <tr>\n",
       "      <th>58</th>\n",
       "      <td>good</td>\n",
       "      <td>14</td>\n",
       "    </tr>\n",
       "    <tr>\n",
       "      <th>9</th>\n",
       "      <td>best</td>\n",
       "      <td>11</td>\n",
       "    </tr>\n",
       "    <tr>\n",
       "      <th>4</th>\n",
       "      <td>awesome</td>\n",
       "      <td>9</td>\n",
       "    </tr>\n",
       "    <tr>\n",
       "      <th>6</th>\n",
       "      <td>battery</td>\n",
       "      <td>9</td>\n",
       "    </tr>\n",
       "    <tr>\n",
       "      <th>19</th>\n",
       "      <td>camera</td>\n",
       "      <td>9</td>\n",
       "    </tr>\n",
       "    <tr>\n",
       "      <th>142</th>\n",
       "      <td>use</td>\n",
       "      <td>7</td>\n",
       "    </tr>\n",
       "    <tr>\n",
       "      <th>141</th>\n",
       "      <td>upgrade</td>\n",
       "      <td>7</td>\n",
       "    </tr>\n",
       "    <tr>\n",
       "      <th>103</th>\n",
       "      <td>premium</td>\n",
       "      <td>7</td>\n",
       "    </tr>\n",
       "  </tbody>\n",
       "</table>\n",
       "</div>"
      ],
      "text/plain": [
       "        Word  freq\n",
       "98     phone    21\n",
       "106      pro    21\n",
       "58      good    14\n",
       "9       best    11\n",
       "4    awesome     9\n",
       "6    battery     9\n",
       "19    camera     9\n",
       "142      use     7\n",
       "141  upgrade     7\n",
       "103  premium     7"
      ]
     },
     "execution_count": 54,
     "metadata": {},
     "output_type": "execute_result"
    }
   ],
   "source": [
    "tdm1 = tdm[[\"index\",\"freq\"]] #SUBSET OF 2 COLUMNS\n",
    "tdm1.rename(columns = {'index':'Word'}, inplace = True) # RENAMING\n",
    "tdm1.sort_values(by='freq',ascending=False,inplace=True) # SORTING DATA\n",
    "tdm1.head(10)"
   ]
  },
  {
   "cell_type": "markdown",
   "id": "b93c703a-c029-4979-bd10-416c1b0f7095",
   "metadata": {},
   "source": [
    "# From here we can say that Good is the most important word in our documnet"
   ]
  },
  {
   "cell_type": "code",
   "execution_count": null,
   "id": "48a3f102-4d83-4e61-ba15-e83b1f497232",
   "metadata": {},
   "outputs": [],
   "source": []
  },
  {
   "cell_type": "markdown",
   "id": "8df14f63-8602-4c4b-a2c0-c78e05be1a3a",
   "metadata": {},
   "source": [
    "# Generating the Word Cloud"
   ]
  },
  {
   "cell_type": "code",
   "execution_count": 57,
   "id": "d2a8e58d-bdfe-461c-9f63-4d6bb4161953",
   "metadata": {},
   "outputs": [
    {
     "name": "stdout",
     "output_type": "stream",
     "text": [
      "There are 2374 words in the combination of all review.\n"
     ]
    }
   ],
   "source": [
    "text = \" \".join(review for review in data.text)\n",
    "print (\"There are {} words in the combination of all review.\".format(len(text)))"
   ]
  },
  {
   "cell_type": "code",
   "execution_count": 58,
   "id": "468c9e96-596a-435b-8cf6-0c8648d6ed4f",
   "metadata": {},
   "outputs": [
    {
     "data": {
      "image/png": "[encoded data removed]",
      "text/plain": [
       "<Figure size 640x480 with 1 Axes>"
      ]
     },
     "metadata": {},
     "output_type": "display_data"
    }
   ],
   "source": [
    "from wordcloud import WordCloud, STOPWORDS, ImageColorGenerator\n",
    "import matplotlib.pyplot as plt\n",
    "\n",
    "cloud = WordCloud(stopwords=set(STOPWORDS), # BACK UP\n",
    "                      background_color=\"white\",\n",
    "                      collocations=False,\n",
    "                      max_words=100).generate(text)\n",
    "\n",
    "plt.imshow(cloud, interpolation='bilinear') # IM = IMAGE\n",
    "plt.axis(\"off\") # NO AXIS\n",
    "plt.show() # DISPLAY PLOT"
   ]
  },
  {
   "cell_type": "code",
   "execution_count": null,
   "id": "5844d4cc-b997-4d62-9de6-e84f79a765f6",
   "metadata": {},
   "outputs": [],
   "source": []
  },
  {
   "cell_type": "markdown",
   "id": "c1e22460-90d1-44fd-a63f-aa86859e39b2",
   "metadata": {},
   "source": [
    "# Sentiment Analysis"
   ]
  },
  {
   "cell_type": "code",
   "execution_count": 60,
   "id": "c1b40b98-5d20-436f-b553-5af62e47064a",
   "metadata": {},
   "outputs": [
    {
     "data": {
      "text/html": [
       "<div>\n",
       "<style scoped>\n",
       "    .dataframe tbody tr th:only-of-type {\n",
       "        vertical-align: middle;\n",
       "    }\n",
       "\n",
       "    .dataframe tbody tr th {\n",
       "        vertical-align: top;\n",
       "    }\n",
       "\n",
       "    .dataframe thead th {\n",
       "        text-align: right;\n",
       "    }\n",
       "</style>\n",
       "<table border=\"1\" class=\"dataframe\">\n",
       "  <thead>\n",
       "    <tr style=\"text-align: right;\">\n",
       "      <th></th>\n",
       "      <th>text</th>\n",
       "    </tr>\n",
       "  </thead>\n",
       "  <tbody>\n",
       "    <tr>\n",
       "      <th>0</th>\n",
       "      <td>awesome pro display awesome bigger bezel much ...</td>\n",
       "    </tr>\n",
       "    <tr>\n",
       "      <th>1</th>\n",
       "      <td>best market</td>\n",
       "    </tr>\n",
       "    <tr>\n",
       "      <th>2</th>\n",
       "      <td>awesome good upgrade love</td>\n",
       "    </tr>\n",
       "    <tr>\n",
       "      <th>3</th>\n",
       "      <td>perfect genuine first time expensive phone com...</td>\n",
       "    </tr>\n",
       "    <tr>\n",
       "      <th>4</th>\n",
       "      <td>best upgrade pro nice colour light weight</td>\n",
       "    </tr>\n",
       "  </tbody>\n",
       "</table>\n",
       "</div>"
      ],
      "text/plain": [
       "                                                text\n",
       "0  awesome pro display awesome bigger bezel much ...\n",
       "1                                        best market\n",
       "2                          awesome good upgrade love\n",
       "3  perfect genuine first time expensive phone com...\n",
       "4          best upgrade pro nice colour light weight"
      ]
     },
     "execution_count": 60,
     "metadata": {},
     "output_type": "execute_result"
    }
   ],
   "source": [
    "data.head()"
   ]
  },
  {
   "cell_type": "code",
   "execution_count": 61,
   "id": "498057f4-75b3-416c-8c3b-6ef163f5beaa",
   "metadata": {},
   "outputs": [
    {
     "name": "stdout",
     "output_type": "stream",
     "text": [
      "Requirement already satisfied: TextBlob in c:\\users\\harsh\\anaconda3\\lib\\site-packages (0.19.0)\n",
      "Requirement already satisfied: nltk>=3.9 in c:\\users\\harsh\\anaconda3\\lib\\site-packages (from TextBlob) (3.9.1)\n",
      "Requirement already satisfied: click in c:\\users\\harsh\\anaconda3\\lib\\site-packages (from nltk>=3.9->TextBlob) (8.1.7)\n",
      "Requirement already satisfied: joblib in c:\\users\\harsh\\anaconda3\\lib\\site-packages (from nltk>=3.9->TextBlob) (1.4.2)\n",
      "Requirement already satisfied: regex>=2021.8.3 in c:\\users\\harsh\\anaconda3\\lib\\site-packages (from nltk>=3.9->TextBlob) (2024.9.11)\n",
      "Requirement already satisfied: tqdm in c:\\users\\harsh\\anaconda3\\lib\\site-packages (from nltk>=3.9->TextBlob) (4.66.5)\n",
      "Requirement already satisfied: colorama in c:\\users\\harsh\\anaconda3\\lib\\site-packages (from click->nltk>=3.9->TextBlob) (0.4.6)\n",
      "Note: you may need to restart the kernel to use updated packages.\n"
     ]
    }
   ],
   "source": [
    "pip install TextBlob"
   ]
  },
  {
   "cell_type": "code",
   "execution_count": 62,
   "id": "69b0bf96-87dd-469a-866a-a3bf6788c0b5",
   "metadata": {},
   "outputs": [
    {
     "data": {
      "text/html": [
       "<div>\n",
       "<style scoped>\n",
       "    .dataframe tbody tr th:only-of-type {\n",
       "        vertical-align: middle;\n",
       "    }\n",
       "\n",
       "    .dataframe tbody tr th {\n",
       "        vertical-align: top;\n",
       "    }\n",
       "\n",
       "    .dataframe thead th {\n",
       "        text-align: right;\n",
       "    }\n",
       "</style>\n",
       "<table border=\"1\" class=\"dataframe\">\n",
       "  <thead>\n",
       "    <tr style=\"text-align: right;\">\n",
       "      <th></th>\n",
       "      <th>text</th>\n",
       "      <th>polarity</th>\n",
       "    </tr>\n",
       "  </thead>\n",
       "  <tbody>\n",
       "    <tr>\n",
       "      <th>0</th>\n",
       "      <td>awesome pro display awesome bigger bezel much ...</td>\n",
       "      <td>0.503704</td>\n",
       "    </tr>\n",
       "    <tr>\n",
       "      <th>1</th>\n",
       "      <td>best market</td>\n",
       "      <td>1.000000</td>\n",
       "    </tr>\n",
       "    <tr>\n",
       "      <th>2</th>\n",
       "      <td>awesome good upgrade love</td>\n",
       "      <td>0.733333</td>\n",
       "    </tr>\n",
       "    <tr>\n",
       "      <th>3</th>\n",
       "      <td>perfect genuine first time expensive phone com...</td>\n",
       "      <td>0.395238</td>\n",
       "    </tr>\n",
       "    <tr>\n",
       "      <th>4</th>\n",
       "      <td>best upgrade pro nice colour light weight</td>\n",
       "      <td>0.666667</td>\n",
       "    </tr>\n",
       "  </tbody>\n",
       "</table>\n",
       "</div>"
      ],
      "text/plain": [
       "                                                text  polarity\n",
       "0  awesome pro display awesome bigger bezel much ...  0.503704\n",
       "1                                        best market  1.000000\n",
       "2                          awesome good upgrade love  0.733333\n",
       "3  perfect genuine first time expensive phone com...  0.395238\n",
       "4          best upgrade pro nice colour light weight  0.666667"
      ]
     },
     "execution_count": 62,
     "metadata": {},
     "output_type": "execute_result"
    }
   ],
   "source": [
    "from textblob import TextBlob\n",
    "\n",
    "data['polarity'] = data['text'].apply(lambda x: TextBlob(x).sentiment.polarity) # polarity range -1 to +1\n",
    "data.head(5)"
   ]
  },
  {
   "cell_type": "code",
   "execution_count": 63,
   "id": "2865dd2c-1433-4001-9d13-dc308b6bfd61",
   "metadata": {},
   "outputs": [
    {
     "data": {
      "text/html": [
       "<div>\n",
       "<style scoped>\n",
       "    .dataframe tbody tr th:only-of-type {\n",
       "        vertical-align: middle;\n",
       "    }\n",
       "\n",
       "    .dataframe tbody tr th {\n",
       "        vertical-align: top;\n",
       "    }\n",
       "\n",
       "    .dataframe thead th {\n",
       "        text-align: right;\n",
       "    }\n",
       "</style>\n",
       "<table border=\"1\" class=\"dataframe\">\n",
       "  <thead>\n",
       "    <tr style=\"text-align: right;\">\n",
       "      <th></th>\n",
       "      <th>text</th>\n",
       "      <th>polarity</th>\n",
       "      <th>Sentiment</th>\n",
       "    </tr>\n",
       "  </thead>\n",
       "  <tbody>\n",
       "    <tr>\n",
       "      <th>0</th>\n",
       "      <td>awesome pro display awesome bigger bezel much ...</td>\n",
       "      <td>0.503704</td>\n",
       "      <td>Positive</td>\n",
       "    </tr>\n",
       "    <tr>\n",
       "      <th>1</th>\n",
       "      <td>best market</td>\n",
       "      <td>1.000000</td>\n",
       "      <td>Positive</td>\n",
       "    </tr>\n",
       "    <tr>\n",
       "      <th>2</th>\n",
       "      <td>awesome good upgrade love</td>\n",
       "      <td>0.733333</td>\n",
       "      <td>Positive</td>\n",
       "    </tr>\n",
       "    <tr>\n",
       "      <th>3</th>\n",
       "      <td>perfect genuine first time expensive phone com...</td>\n",
       "      <td>0.395238</td>\n",
       "      <td>Positive</td>\n",
       "    </tr>\n",
       "    <tr>\n",
       "      <th>4</th>\n",
       "      <td>best upgrade pro nice colour light weight</td>\n",
       "      <td>0.666667</td>\n",
       "      <td>Positive</td>\n",
       "    </tr>\n",
       "  </tbody>\n",
       "</table>\n",
       "</div>"
      ],
      "text/plain": [
       "                                                text  polarity Sentiment\n",
       "0  awesome pro display awesome bigger bezel much ...  0.503704  Positive\n",
       "1                                        best market  1.000000  Positive\n",
       "2                          awesome good upgrade love  0.733333  Positive\n",
       "3  perfect genuine first time expensive phone com...  0.395238  Positive\n",
       "4          best upgrade pro nice colour light weight  0.666667  Positive"
      ]
     },
     "execution_count": 63,
     "metadata": {},
     "output_type": "execute_result"
    }
   ],
   "source": [
    "data['Sentiment'] = np.where(data['polarity']>= 0, 'Positive', 'Negative')\n",
    "data.head()"
   ]
  },
  {
   "cell_type": "code",
   "execution_count": 64,
   "id": "5582c1f9-9ad8-4246-aba4-5cc4ef58e015",
   "metadata": {},
   "outputs": [
    {
     "data": {
      "text/plain": [
       "Sentiment\n",
       "Positive    57\n",
       "Negative     4\n",
       "Name: count, dtype: int64"
      ]
     },
     "execution_count": 64,
     "metadata": {},
     "output_type": "execute_result"
    }
   ],
   "source": [
    "data.Sentiment.value_counts()"
   ]
  },
  {
   "cell_type": "code",
   "execution_count": 65,
   "id": "0875e82f-3405-4232-bcf4-e2447aaa7407",
   "metadata": {},
   "outputs": [
    {
     "data": {
      "image/png": "[encoded data removed]",
      "text/plain": [
       "<Figure size 640x480 with 1 Axes>"
      ]
     },
     "metadata": {},
     "output_type": "display_data"
    }
   ],
   "source": [
    "colors = [\"#1E90FF\", \"#00CED1\", \"#4682B4\", \"#20B2AA\", \"#5F9EA0\"]\n",
    "data.Sentiment.value_counts().plot.pie(\n",
    "    autopct=\"%0.0f%%\", \n",
    "    colors=colors, \n",
    "    startangle=140, \n",
    "    wedgeprops={\"edgecolor\": \"black\"})\n",
    "plt.show()"
   ]
  },
  {
   "cell_type": "markdown",
   "id": "f473eadb-28aa-49d1-a000-ed11275d7585",
   "metadata": {},
   "source": [
    "### So we can say that 97% of people have the positive review towards the product"
   ]
  },
  {
   "cell_type": "code",
   "execution_count": null,
   "id": "8b62b500-f02c-453c-84d4-ce1f2a0600e9",
   "metadata": {},
   "outputs": [],
   "source": []
  },
  {
   "cell_type": "markdown",
   "id": "b51a0de0-5755-4ef8-bdf5-52e3db4218d3",
   "metadata": {},
   "source": [
    "# Term Frequency/Ienverse Documentation Frequency"
   ]
  },
  {
   "cell_type": "code",
   "execution_count": 68,
   "id": "94015aa2-e95d-47d8-9e34-7e1453d194d6",
   "metadata": {},
   "outputs": [
    {
     "data": {
      "text/html": [
       "<div>\n",
       "<style scoped>\n",
       "    .dataframe tbody tr th:only-of-type {\n",
       "        vertical-align: middle;\n",
       "    }\n",
       "\n",
       "    .dataframe tbody tr th {\n",
       "        vertical-align: top;\n",
       "    }\n",
       "\n",
       "    .dataframe thead th {\n",
       "        text-align: right;\n",
       "    }\n",
       "</style>\n",
       "<table border=\"1\" class=\"dataframe\">\n",
       "  <thead>\n",
       "    <tr style=\"text-align: right;\">\n",
       "      <th></th>\n",
       "      <th>Word</th>\n",
       "      <th>0</th>\n",
       "      <th>1</th>\n",
       "      <th>2</th>\n",
       "      <th>3</th>\n",
       "      <th>4</th>\n",
       "      <th>5</th>\n",
       "      <th>6</th>\n",
       "      <th>7</th>\n",
       "      <th>8</th>\n",
       "      <th>...</th>\n",
       "      <th>51</th>\n",
       "      <th>52</th>\n",
       "      <th>53</th>\n",
       "      <th>54</th>\n",
       "      <th>55</th>\n",
       "      <th>56</th>\n",
       "      <th>57</th>\n",
       "      <th>58</th>\n",
       "      <th>59</th>\n",
       "      <th>60</th>\n",
       "    </tr>\n",
       "  </thead>\n",
       "  <tbody>\n",
       "    <tr>\n",
       "      <th>0</th>\n",
       "      <td>affluent</td>\n",
       "      <td>0</td>\n",
       "      <td>0</td>\n",
       "      <td>0</td>\n",
       "      <td>0</td>\n",
       "      <td>0</td>\n",
       "      <td>0</td>\n",
       "      <td>0</td>\n",
       "      <td>0</td>\n",
       "      <td>0</td>\n",
       "      <td>...</td>\n",
       "      <td>0</td>\n",
       "      <td>0</td>\n",
       "      <td>0</td>\n",
       "      <td>0</td>\n",
       "      <td>0</td>\n",
       "      <td>0</td>\n",
       "      <td>0</td>\n",
       "      <td>0</td>\n",
       "      <td>0</td>\n",
       "      <td>0</td>\n",
       "    </tr>\n",
       "    <tr>\n",
       "      <th>1</th>\n",
       "      <td>amaze</td>\n",
       "      <td>0</td>\n",
       "      <td>0</td>\n",
       "      <td>0</td>\n",
       "      <td>0</td>\n",
       "      <td>0</td>\n",
       "      <td>0</td>\n",
       "      <td>0</td>\n",
       "      <td>0.466968</td>\n",
       "      <td>0</td>\n",
       "      <td>...</td>\n",
       "      <td>0</td>\n",
       "      <td>0</td>\n",
       "      <td>0</td>\n",
       "      <td>0</td>\n",
       "      <td>0</td>\n",
       "      <td>0.863725</td>\n",
       "      <td>0</td>\n",
       "      <td>0</td>\n",
       "      <td>0</td>\n",
       "      <td>0</td>\n",
       "    </tr>\n",
       "    <tr>\n",
       "      <th>2</th>\n",
       "      <td>apple</td>\n",
       "      <td>0</td>\n",
       "      <td>0</td>\n",
       "      <td>0</td>\n",
       "      <td>0.197141</td>\n",
       "      <td>0</td>\n",
       "      <td>0</td>\n",
       "      <td>0</td>\n",
       "      <td>0</td>\n",
       "      <td>0</td>\n",
       "      <td>...</td>\n",
       "      <td>0</td>\n",
       "      <td>0</td>\n",
       "      <td>0</td>\n",
       "      <td>0</td>\n",
       "      <td>0</td>\n",
       "      <td>0</td>\n",
       "      <td>0</td>\n",
       "      <td>0</td>\n",
       "      <td>0</td>\n",
       "      <td>0</td>\n",
       "    </tr>\n",
       "    <tr>\n",
       "      <th>3</th>\n",
       "      <td>avoid</td>\n",
       "      <td>0</td>\n",
       "      <td>0</td>\n",
       "      <td>0</td>\n",
       "      <td>0</td>\n",
       "      <td>0</td>\n",
       "      <td>0</td>\n",
       "      <td>0</td>\n",
       "      <td>0</td>\n",
       "      <td>0</td>\n",
       "      <td>...</td>\n",
       "      <td>0</td>\n",
       "      <td>0</td>\n",
       "      <td>0</td>\n",
       "      <td>0</td>\n",
       "      <td>0</td>\n",
       "      <td>0</td>\n",
       "      <td>0</td>\n",
       "      <td>0</td>\n",
       "      <td>0</td>\n",
       "      <td>0</td>\n",
       "    </tr>\n",
       "    <tr>\n",
       "      <th>4</th>\n",
       "      <td>awesome</td>\n",
       "      <td>0.315615</td>\n",
       "      <td>0</td>\n",
       "      <td>0.454534</td>\n",
       "      <td>0</td>\n",
       "      <td>0</td>\n",
       "      <td>0</td>\n",
       "      <td>0.169488</td>\n",
       "      <td>0</td>\n",
       "      <td>0</td>\n",
       "      <td>...</td>\n",
       "      <td>0</td>\n",
       "      <td>0</td>\n",
       "      <td>0</td>\n",
       "      <td>0</td>\n",
       "      <td>0</td>\n",
       "      <td>0</td>\n",
       "      <td>0</td>\n",
       "      <td>0</td>\n",
       "      <td>0</td>\n",
       "      <td>0</td>\n",
       "    </tr>\n",
       "  </tbody>\n",
       "</table>\n",
       "<p>5 rows × 62 columns</p>\n",
       "</div>"
      ],
      "text/plain": [
       "       Word         0  1         2         3  4  5         6         7  8  \\\n",
       "0  affluent         0  0         0         0  0  0         0         0  0   \n",
       "1     amaze         0  0         0         0  0  0         0  0.466968  0   \n",
       "2     apple         0  0         0  0.197141  0  0         0         0  0   \n",
       "3     avoid         0  0         0         0  0  0         0         0  0   \n",
       "4   awesome  0.315615  0  0.454534         0  0  0  0.169488         0  0   \n",
       "\n",
       "   ...  51  52  53  54  55        56  57  58  59  60  \n",
       "0  ...   0   0   0   0   0         0   0   0   0   0  \n",
       "1  ...   0   0   0   0   0  0.863725   0   0   0   0  \n",
       "2  ...   0   0   0   0   0         0   0   0   0   0  \n",
       "3  ...   0   0   0   0   0         0   0   0   0   0  \n",
       "4  ...   0   0   0   0   0         0   0   0   0   0  \n",
       "\n",
       "[5 rows x 62 columns]"
      ]
     },
     "execution_count": 68,
     "metadata": {},
     "output_type": "execute_result"
    }
   ],
   "source": [
    "from sklearn.feature_extraction.text import TfidfVectorizer\n",
    "\n",
    "# settings that you use for count vectorizer will go here\n",
    "tfidf_vectorizer = TfidfVectorizer(use_idf=True,stop_words='english',analyzer='word')\n",
    "\n",
    "# just send in all your docs here\n",
    "tfidf_vectorizer_vectors=tfidf_vectorizer.fit_transform(data.text)\n",
    "feature_names = cv.get_feature_names_out()  ## EVERY WORD NAME\n",
    "abc = tfidf_vectorizer_vectors.transpose()\n",
    "output=pd.DataFrame.sparse.from_spmatrix(abc,index=feature_names)\n",
    "output.reset_index(inplace=True)\n",
    "output.rename(columns = {'index':'Word'}, inplace = True) # RENAMING\n",
    "output.head()"
   ]
  },
  {
   "cell_type": "code",
   "execution_count": 69,
   "id": "adfd37be-f42d-4b29-8f8d-43128adc5437",
   "metadata": {},
   "outputs": [
    {
     "data": {
      "text/html": [
       "<div>\n",
       "<style scoped>\n",
       "    .dataframe tbody tr th:only-of-type {\n",
       "        vertical-align: middle;\n",
       "    }\n",
       "\n",
       "    .dataframe tbody tr th {\n",
       "        vertical-align: top;\n",
       "    }\n",
       "\n",
       "    .dataframe thead th {\n",
       "        text-align: right;\n",
       "    }\n",
       "</style>\n",
       "<table border=\"1\" class=\"dataframe\">\n",
       "  <thead>\n",
       "    <tr style=\"text-align: right;\">\n",
       "      <th></th>\n",
       "      <th>Word</th>\n",
       "      <th>TF*IDF</th>\n",
       "    </tr>\n",
       "  </thead>\n",
       "  <tbody>\n",
       "    <tr>\n",
       "      <th>16</th>\n",
       "      <td>build</td>\n",
       "      <td>1.0</td>\n",
       "    </tr>\n",
       "    <tr>\n",
       "      <th>35</th>\n",
       "      <td>depend</td>\n",
       "      <td>1.0</td>\n",
       "    </tr>\n",
       "    <tr>\n",
       "      <th>25</th>\n",
       "      <td>comfortable</td>\n",
       "      <td>1.0</td>\n",
       "    </tr>\n",
       "    <tr>\n",
       "      <th>53</th>\n",
       "      <td>flagship</td>\n",
       "      <td>1.0</td>\n",
       "    </tr>\n",
       "    <tr>\n",
       "      <th>52</th>\n",
       "      <td>fine</td>\n",
       "      <td>1.0</td>\n",
       "    </tr>\n",
       "    <tr>\n",
       "      <th>41</th>\n",
       "      <td>exchange</td>\n",
       "      <td>1.0</td>\n",
       "    </tr>\n",
       "    <tr>\n",
       "      <th>9</th>\n",
       "      <td>best</td>\n",
       "      <td>1.0</td>\n",
       "    </tr>\n",
       "    <tr>\n",
       "      <th>21</th>\n",
       "      <td>charm</td>\n",
       "      <td>1.0</td>\n",
       "    </tr>\n",
       "    <tr>\n",
       "      <th>42</th>\n",
       "      <td>exclusive</td>\n",
       "      <td>1.0</td>\n",
       "    </tr>\n",
       "    <tr>\n",
       "      <th>12</th>\n",
       "      <td>bigger</td>\n",
       "      <td>1.0</td>\n",
       "    </tr>\n",
       "    <tr>\n",
       "      <th>13</th>\n",
       "      <td>bite</td>\n",
       "      <td>1.0</td>\n",
       "    </tr>\n",
       "    <tr>\n",
       "      <th>48</th>\n",
       "      <td>faster</td>\n",
       "      <td>1.0</td>\n",
       "    </tr>\n",
       "    <tr>\n",
       "      <th>56</th>\n",
       "      <td>genuine</td>\n",
       "      <td>0.863725</td>\n",
       "    </tr>\n",
       "    <tr>\n",
       "      <th>1</th>\n",
       "      <td>amaze</td>\n",
       "      <td>0.859042</td>\n",
       "    </tr>\n",
       "    <tr>\n",
       "      <th>33</th>\n",
       "      <td>delivery</td>\n",
       "      <td>0.859042</td>\n",
       "    </tr>\n",
       "    <tr>\n",
       "      <th>60</th>\n",
       "      <td>handy</td>\n",
       "      <td>0.851604</td>\n",
       "    </tr>\n",
       "    <tr>\n",
       "      <th>45</th>\n",
       "      <td>exposure</td>\n",
       "      <td>0.801932</td>\n",
       "    </tr>\n",
       "    <tr>\n",
       "      <th>49</th>\n",
       "      <td>feature</td>\n",
       "      <td>0.775275</td>\n",
       "    </tr>\n",
       "    <tr>\n",
       "      <th>38</th>\n",
       "      <td>display</td>\n",
       "      <td>0.770964</td>\n",
       "    </tr>\n",
       "    <tr>\n",
       "      <th>39</th>\n",
       "      <td>elegance</td>\n",
       "      <td>0.768383</td>\n",
       "    </tr>\n",
       "  </tbody>\n",
       "</table>\n",
       "</div>"
      ],
      "text/plain": [
       "           Word    TF*IDF\n",
       "16        build       1.0\n",
       "35       depend       1.0\n",
       "25  comfortable       1.0\n",
       "53     flagship       1.0\n",
       "52         fine       1.0\n",
       "41     exchange       1.0\n",
       "9          best       1.0\n",
       "21        charm       1.0\n",
       "42    exclusive       1.0\n",
       "12       bigger       1.0\n",
       "13         bite       1.0\n",
       "48       faster       1.0\n",
       "56      genuine  0.863725\n",
       "1         amaze  0.859042\n",
       "33     delivery  0.859042\n",
       "60        handy  0.851604\n",
       "45     exposure  0.801932\n",
       "49      feature  0.775275\n",
       "38      display  0.770964\n",
       "39     elegance  0.768383"
      ]
     },
     "execution_count": 69,
     "metadata": {},
     "output_type": "execute_result"
    }
   ],
   "source": [
    "output['TF*IDF'] = output.max(axis=0).T\n",
    "output=output[[\"Word\",\"TF*IDF\"]] #SUBSET OF 2 COLUMNS\n",
    "output.sort_values(by='TF*IDF',ascending=False,inplace=True) # SORTING DATA\n",
    "output.head(20)"
   ]
  },
  {
   "cell_type": "markdown",
   "id": "70d46fa4-6303-4596-9e57-78903886d6fd",
   "metadata": {},
   "source": [
    "### So this are the most important word in every document"
   ]
  }
 ],
 "metadata": {
  "kernelspec": {
   "display_name": "Python 3 (ipykernel)",
   "language": "python",
   "name": "python3"
  },
  "language_info": {
   "codemirror_mode": {
    "name": "ipython",
    "version": 3
   },
   "file_extension": ".py",
   "mimetype": "text/x-python",
   "name": "python",
   "nbconvert_exporter": "python",
   "pygments_lexer": "ipython3",
   "version": "3.10.9"
  }
 },
 "nbformat": 4,
 "nbformat_minor": 5
}
